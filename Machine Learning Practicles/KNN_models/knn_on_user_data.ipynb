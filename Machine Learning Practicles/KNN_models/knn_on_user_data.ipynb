{
 "cells": [
  {
   "cell_type": "markdown",
   "id": "80a5fcae",
   "metadata": {},
   "source": [
    "## Step-1:Data pre-processing"
   ]
  },
  {
   "cell_type": "markdown",
   "id": "6ea78572",
   "metadata": {},
   "source": [
    "## Using KNN algorithm"
   ]
  },
  {
   "cell_type": "markdown",
   "id": "843430e2",
   "metadata": {},
   "source": [
    "1. Importing the required libraries"
   ]
  },
  {
   "cell_type": "code",
   "execution_count": 1,
   "id": "016d093e",
   "metadata": {},
   "outputs": [],
   "source": [
    "import numpy as np\n",
    "import pandas as pd\n",
    "import matplotlib.pyplot as plt"
   ]
  },
  {
   "cell_type": "markdown",
   "id": "0ffbac3f",
   "metadata": {},
   "source": [
    "2. Importing the dataset using the pandas library"
   ]
  },
  {
   "cell_type": "code",
   "execution_count": 3,
   "id": "3154c649",
   "metadata": {},
   "outputs": [
    {
     "data": {
      "text/html": [
       "<div>\n",
       "<style scoped>\n",
       "    .dataframe tbody tr th:only-of-type {\n",
       "        vertical-align: middle;\n",
       "    }\n",
       "\n",
       "    .dataframe tbody tr th {\n",
       "        vertical-align: top;\n",
       "    }\n",
       "\n",
       "    .dataframe thead th {\n",
       "        text-align: right;\n",
       "    }\n",
       "</style>\n",
       "<table border=\"1\" class=\"dataframe\">\n",
       "  <thead>\n",
       "    <tr style=\"text-align: right;\">\n",
       "      <th></th>\n",
       "      <th>User ID</th>\n",
       "      <th>Gender</th>\n",
       "      <th>Age</th>\n",
       "      <th>EstimatedSalary</th>\n",
       "      <th>Purchased</th>\n",
       "    </tr>\n",
       "  </thead>\n",
       "  <tbody>\n",
       "    <tr>\n",
       "      <th>0</th>\n",
       "      <td>15624510</td>\n",
       "      <td>Male</td>\n",
       "      <td>19</td>\n",
       "      <td>19000</td>\n",
       "      <td>0</td>\n",
       "    </tr>\n",
       "    <tr>\n",
       "      <th>1</th>\n",
       "      <td>15810944</td>\n",
       "      <td>Male</td>\n",
       "      <td>35</td>\n",
       "      <td>20000</td>\n",
       "      <td>0</td>\n",
       "    </tr>\n",
       "    <tr>\n",
       "      <th>2</th>\n",
       "      <td>15668575</td>\n",
       "      <td>Female</td>\n",
       "      <td>26</td>\n",
       "      <td>43000</td>\n",
       "      <td>0</td>\n",
       "    </tr>\n",
       "    <tr>\n",
       "      <th>3</th>\n",
       "      <td>15603246</td>\n",
       "      <td>Female</td>\n",
       "      <td>27</td>\n",
       "      <td>57000</td>\n",
       "      <td>0</td>\n",
       "    </tr>\n",
       "    <tr>\n",
       "      <th>4</th>\n",
       "      <td>15804002</td>\n",
       "      <td>Male</td>\n",
       "      <td>19</td>\n",
       "      <td>76000</td>\n",
       "      <td>0</td>\n",
       "    </tr>\n",
       "    <tr>\n",
       "      <th>...</th>\n",
       "      <td>...</td>\n",
       "      <td>...</td>\n",
       "      <td>...</td>\n",
       "      <td>...</td>\n",
       "      <td>...</td>\n",
       "    </tr>\n",
       "    <tr>\n",
       "      <th>395</th>\n",
       "      <td>15691863</td>\n",
       "      <td>Female</td>\n",
       "      <td>46</td>\n",
       "      <td>41000</td>\n",
       "      <td>1</td>\n",
       "    </tr>\n",
       "    <tr>\n",
       "      <th>396</th>\n",
       "      <td>15706071</td>\n",
       "      <td>Male</td>\n",
       "      <td>51</td>\n",
       "      <td>23000</td>\n",
       "      <td>1</td>\n",
       "    </tr>\n",
       "    <tr>\n",
       "      <th>397</th>\n",
       "      <td>15654296</td>\n",
       "      <td>Female</td>\n",
       "      <td>50</td>\n",
       "      <td>20000</td>\n",
       "      <td>1</td>\n",
       "    </tr>\n",
       "    <tr>\n",
       "      <th>398</th>\n",
       "      <td>15755018</td>\n",
       "      <td>Male</td>\n",
       "      <td>36</td>\n",
       "      <td>33000</td>\n",
       "      <td>0</td>\n",
       "    </tr>\n",
       "    <tr>\n",
       "      <th>399</th>\n",
       "      <td>15594041</td>\n",
       "      <td>Female</td>\n",
       "      <td>49</td>\n",
       "      <td>36000</td>\n",
       "      <td>1</td>\n",
       "    </tr>\n",
       "  </tbody>\n",
       "</table>\n",
       "<p>400 rows × 5 columns</p>\n",
       "</div>"
      ],
      "text/plain": [
       "      User ID  Gender  Age  EstimatedSalary  Purchased\n",
       "0    15624510    Male   19            19000          0\n",
       "1    15810944    Male   35            20000          0\n",
       "2    15668575  Female   26            43000          0\n",
       "3    15603246  Female   27            57000          0\n",
       "4    15804002    Male   19            76000          0\n",
       "..        ...     ...  ...              ...        ...\n",
       "395  15691863  Female   46            41000          1\n",
       "396  15706071    Male   51            23000          1\n",
       "397  15654296  Female   50            20000          1\n",
       "398  15755018    Male   36            33000          0\n",
       "399  15594041  Female   49            36000          1\n",
       "\n",
       "[400 rows x 5 columns]"
      ]
     },
     "execution_count": 3,
     "metadata": {},
     "output_type": "execute_result"
    }
   ],
   "source": [
    "data=pd.read_csv(\"User_Data.csv\")\n",
    "data"
   ]
  },
  {
   "cell_type": "markdown",
   "id": "18d249f0",
   "metadata": {},
   "source": [
    "3. Checking the missing values in the dataset"
   ]
  },
  {
   "cell_type": "code",
   "execution_count": null,
   "id": "2f3a8839",
   "metadata": {},
   "outputs": [],
   "source": [
    "data.isnull().sum()"
   ]
  },
  {
   "cell_type": "markdown",
   "id": "e2515f1f",
   "metadata": {},
   "source": [
    "Here no any missing values found."
   ]
  },
  {
   "cell_type": "markdown",
   "id": "bfb5311e",
   "metadata": {},
   "source": [
    "4. Extracting the independent and dependent variables"
   ]
  },
  {
   "cell_type": "code",
   "execution_count": null,
   "id": "c6ce8aef",
   "metadata": {},
   "outputs": [],
   "source": [
    "#for independent variable\n",
    "x=data.iloc[:,[2,3]]\n"
   ]
  },
  {
   "cell_type": "code",
   "execution_count": null,
   "id": "2385c662",
   "metadata": {},
   "outputs": [],
   "source": [
    "#for dependent variable\n",
    "y=data.iloc[:,4]\n"
   ]
  },
  {
   "cell_type": "markdown",
   "id": "0ac9667f",
   "metadata": {},
   "source": [
    "5. Splitting the dataset into Training and Training dataset"
   ]
  },
  {
   "cell_type": "code",
   "execution_count": null,
   "id": "e4cf8f4a",
   "metadata": {},
   "outputs": [],
   "source": [
    "#importing the train_test_split class from the scikit-learn.model_selection library\n",
    "from sklearn.model_selection import train_test_split\n",
    "\n",
    "#splitting the dataset\n",
    "x_train,x_test,y_train,y_test=train_test_split(x,y,test_size=0.25,random_state=0)"
   ]
  },
  {
   "cell_type": "markdown",
   "id": "6123a57b",
   "metadata": {},
   "source": [
    "6. Feature scaling"
   ]
  },
  {
   "cell_type": "code",
   "execution_count": null,
   "id": "c6fbb89c",
   "metadata": {},
   "outputs": [],
   "source": [
    "#importing the standard scaler class from scikit-learn.preprocessing library\n",
    "from sklearn.preprocessing import StandardScaler\n",
    "\n",
    "#create an instance\n",
    "standard=StandardScaler()\n",
    "\n",
    "#fitting the independent dataset \n",
    "x_train=standard.fit_transform(x_train)\n",
    "\n",
    "x_test=standard.fit_transform(x_test)"
   ]
  },
  {
   "cell_type": "markdown",
   "id": "6645d44e",
   "metadata": {},
   "source": [
    "## Step-2: Fitting the KNN classifier to the training data:"
   ]
  },
  {
   "cell_type": "code",
   "execution_count": null,
   "id": "6ebb1593",
   "metadata": {},
   "outputs": [],
   "source": [
    "#importing the kneighbors classifier form the scikit-learn.neighbors library\n",
    "from sklearn.neighbors import KNeighborsClassifier\n",
    "\n",
    "#create an instance\n",
    "classifier=KNeighborsClassifier(n_neighbors=5,metric='minkowski',p=2)\n",
    "\n",
    "#fitting the values in the classifier\n",
    "classifier.fit(x_train,y_train)"
   ]
  },
  {
   "cell_type": "markdown",
   "id": "e48ec700",
   "metadata": {},
   "source": [
    "## Step-3:Predicting the test set result:"
   ]
  },
  {
   "cell_type": "code",
   "execution_count": null,
   "id": "30adb979",
   "metadata": {},
   "outputs": [],
   "source": [
    "y_pred=classifier.predict(x_test)"
   ]
  },
  {
   "cell_type": "code",
   "execution_count": null,
   "id": "877cc301",
   "metadata": {},
   "outputs": [],
   "source": [
    "y_pred"
   ]
  },
  {
   "cell_type": "markdown",
   "id": "db20f413",
   "metadata": {},
   "source": [
    "## Step-4:Creating the confusion matrix"
   ]
  },
  {
   "cell_type": "code",
   "execution_count": null,
   "id": "56406e05",
   "metadata": {},
   "outputs": [],
   "source": [
    "#importing the confusion matrix class from the scikit-learn.metrics library\n",
    "from sklearn.metrics import confusion_matrix\n",
    "\n",
    "#creating an instance\n",
    "cm=confusion_matrix(y_test,y_pred)"
   ]
  },
  {
   "cell_type": "code",
   "execution_count": null,
   "id": "6808b262",
   "metadata": {},
   "outputs": [],
   "source": [
    "cm"
   ]
  },
  {
   "cell_type": "markdown",
   "id": "ecf0b2f0",
   "metadata": {},
   "source": [
    "## Step-5:Accuracy score"
   ]
  },
  {
   "cell_type": "code",
   "execution_count": null,
   "id": "3fdf75ee",
   "metadata": {},
   "outputs": [],
   "source": [
    "from sklearn.metrics import accuracy_score\n",
    "\n",
    "#creating an instance\n",
    "accuracy=accuracy_score(y_test,y_pred)\n",
    "\n",
    "#printing the accuracy score\n",
    "print(\"Accuracy score:\",accuracy*100,\"%\")"
   ]
  },
  {
   "cell_type": "markdown",
   "id": "b5d98956",
   "metadata": {},
   "source": [
    "## Hence the accuracy score of KNN model is 93%"
   ]
  },
  {
   "cell_type": "markdown",
   "id": "4f90fd77",
   "metadata": {},
   "source": [
    "## Step-6: Visualizing the training set results:"
   ]
  },
  {
   "cell_type": "code",
   "execution_count": null,
   "id": "7a674748",
   "metadata": {},
   "outputs": [],
   "source": [
    "#importing the plot decision regions class from mlxtend.plotting library  (please install the mlxtend library first)\n",
    "from mlxtend.plotting import plot_decision_regions"
   ]
  },
  {
   "cell_type": "code",
   "execution_count": null,
   "id": "4bb48500",
   "metadata": {},
   "outputs": [],
   "source": [
    "#plotting the decision boundary\n",
    "plot_decision_regions(x_train,y_train.to_numpy(),clf=classifier,legend=2)\n",
    "\n",
    "#title of graph\n",
    "plt.title(\"training test results visualization(knn algorithm)\")\n",
    "\n",
    "#xlabel\n",
    "plt.xlabel(\"Age\")\n",
    "\n",
    "#ylabel\n",
    "plt.ylabel(\"estimated salary\")\n",
    "\n",
    "#show (0 means not purchased the car and 1 means who purchased the car)\n",
    "plt.show()"
   ]
  },
  {
   "cell_type": "markdown",
   "id": "4667e1aa",
   "metadata": {},
   "source": [
    "## Step-7: Visualizing the test set results:"
   ]
  },
  {
   "cell_type": "code",
   "execution_count": null,
   "id": "f595fd6f",
   "metadata": {},
   "outputs": [],
   "source": [
    "#plotting the decision boundary\n",
    "plot_decision_regions(x_test,y_test.to_numpy(),clf=classifier,legend=2)\n",
    "\n",
    "#title of graph\n",
    "plt.title(\"test set results visualization\")\n",
    "\n",
    "#xlabel\n",
    "plt.xlabel(\"Age\")\n",
    "\n",
    "#ylabel\n",
    "plt.ylabel(\"estimated salary\")\n",
    "\n",
    "#show (0 means not purchased the car and 1 means who purchased the car)\n",
    "plt.show()"
   ]
  },
  {
   "cell_type": "code",
   "execution_count": null,
   "id": "90651fb8",
   "metadata": {},
   "outputs": [],
   "source": []
  },
  {
   "cell_type": "code",
   "execution_count": null,
   "id": "2499d0fa",
   "metadata": {},
   "outputs": [],
   "source": []
  }
 ],
 "metadata": {
  "kernelspec": {
   "display_name": "Python 3 (ipykernel)",
   "language": "python",
   "name": "python3"
  },
  "language_info": {
   "codemirror_mode": {
    "name": "ipython",
    "version": 3
   },
   "file_extension": ".py",
   "mimetype": "text/x-python",
   "name": "python",
   "nbconvert_exporter": "python",
   "pygments_lexer": "ipython3",
   "version": "3.9.13"
  }
 },
 "nbformat": 4,
 "nbformat_minor": 5
}
