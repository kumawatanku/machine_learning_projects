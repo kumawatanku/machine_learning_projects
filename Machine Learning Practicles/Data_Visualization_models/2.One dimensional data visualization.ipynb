{
 "cells": [
  {
   "cell_type": "markdown",
   "id": "cd0ed534",
   "metadata": {},
   "source": [
    "## Plotting Histogram for One-Dimensional Data."
   ]
  },
  {
   "cell_type": "code",
   "execution_count": null,
   "id": "09ceb506",
   "metadata": {},
   "outputs": [],
   "source": [
    "#import 'math' library for mathematical operations\n",
    "import math\n",
    "\n",
    "#import 'random' library which is used to generate random numbers\n",
    "import random\n",
    "\n",
    "#import 'matplotlib' to create graphs and plots\n",
    "import matplotlib.pyplot as plt"
   ]
  },
  {
   "cell_type": "code",
   "execution_count": 2,
   "id": "5dc88fcb",
   "metadata": {},
   "outputs": [],
   "source": [
    "# import 'Counter' class from 'Collection' library which is used to count the \n",
    "#occurrences of items in a collection,which will be used to create a histogram.\n",
    "from collections import Counter"
   ]
  },
  {
   "cell_type": "markdown",
   "id": "baf8e69f",
   "metadata": {},
   "source": [
    "Define a functionnamed bucketsize that takes two parameters:\n",
    "     point (a data point) and bucket_size (the size of each bucket in the histogram)."
   ]
  },
  {
   "cell_type": "code",
   "execution_count": 3,
   "id": "fac5b983",
   "metadata": {},
   "outputs": [],
   "source": [
    "def bucketsize(point,bucket_size):\n",
    "    return bucket_size*math.floor(point/bucket_size)"
   ]
  },
  {
   "cell_type": "markdown",
   "id": "9e561c35",
   "metadata": {},
   "source": [
    "Define a function named make_histogram that takes two parameters:\n",
    "    points (a list of data points) and bucket_size (the size of each bucket in the histogram)."
   ]
  },
  {
   "cell_type": "code",
   "execution_count": 4,
   "id": "da25820c",
   "metadata": {},
   "outputs": [],
   "source": [
    "def make_histogram(points, bucket_size):\n",
    "    return Counter(bucketsize(point, bucket_size) for point in points)"
   ]
  },
  {
   "cell_type": "markdown",
   "id": "b23009aa",
   "metadata": {},
   "source": [
    "Define a function named plot_histogram that takes three parameters:\n",
    "    points (a list of data points), bucket_size (the size of each bucket in the histogram),\n",
    "    and an optional title parameter, which defaults to an empty string."
   ]
  },
  {
   "cell_type": "code",
   "execution_count": 5,
   "id": "5e3ca3a3",
   "metadata": {},
   "outputs": [],
   "source": [
    "def plot_histogram(points,bucket_size,title=\"\"):\n",
    "    histogram=make_histogram(points,bucket_size)\n",
    "    plt.bar(histogram.keys(),histogram.values(),width=bucket_size)\n",
    "    plt.title(title)\n",
    "    plt.show()"
   ]
  },
  {
   "cell_type": "code",
   "execution_count": 6,
   "id": "483e6c47",
   "metadata": {},
   "outputs": [],
   "source": [
    "#generate random numbers involves numbers are reproducible using 'seed'\n",
    "random.seed(0)\n",
    "\n",
    "#generating '10000' random numbers between '-100 to 100'\n",
    "uniform=[200*random.random()-100 for _ in range(10000)]\n"
   ]
  },
  {
   "cell_type": "code",
   "execution_count": 7,
   "id": "af352bad",
   "metadata": {},
   "outputs": [
    {
     "data": {
      "image/png": "[encoded data removed]",
      "text/plain": [
       "<Figure size 640x480 with 1 Axes>"
      ]
     },
     "metadata": {},
     "output_type": "display_data"
    }
   ],
   "source": [
    "#plotting one-dimensional data\n",
    "plot_histogram(uniform,10,\"Uniform Histogram\")"
   ]
  }
 ],
 "metadata": {
  "kernelspec": {
   "display_name": "Python 3 (ipykernel)",
   "language": "python",
   "name": "python3"
  },
  "language_info": {
   "codemirror_mode": {
    "name": "ipython",
    "version": 3
   },
   "file_extension": ".py",
   "mimetype": "text/x-python",
   "name": "python",
   "nbconvert_exporter": "python",
   "pygments_lexer": "ipython3",
   "version": "3.9.13"
  }
 },
 "nbformat": 4,
 "nbformat_minor": 5
}
